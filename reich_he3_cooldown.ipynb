{
 "cells": [
  {
   "cell_type": "code",
   "execution_count": 12,
   "metadata": {
    "collapsed": false
   },
   "outputs": [],
   "source": [
    "%matplotlib inline\n",
    "import matplotlib as mpl\n",
    "mpl.style.use('/Users/nik/Dropbox/Notebooks/thesisrc.py')\n",
    "import matplotlib.pyplot as plt\n",
    "import matplotlib.ticker as ticker\n",
    "import numpy as np\n",
    "import glob\n",
    "import os\n",
    "import pandas as pd\n",
    "import lvdatatools as lvdt"
   ]
  },
  {
   "cell_type": "code",
   "execution_count": 13,
   "metadata": {
    "collapsed": false
   },
   "outputs": [],
   "source": [
    "root = '/Volumes/JUPITER/'\n",
    "os.chdir(root)\n",
    "data_dir = 'Data/scfmh2/'\n",
    "figure_dir = 'Data/scfmh2/figures'"
   ]
  },
  {
   "cell_type": "code",
   "execution_count": 14,
   "metadata": {
    "collapsed": false,
    "scrolled": false
   },
   "outputs": [
    {
     "data": {
      "text/plain": [
       "['.ipynb_checkpoints',\n",
       " 'figures',\n",
       " 'gateswp_17-16-6_300mK_a.bin',\n",
       " 'gateswp_17-16-6_300mK_a.txt',\n",
       " 'gateswp_17-16-6_4K-0T_a.bin',\n",
       " 'gateswp_17-16-6_4K-0T_a.txt',\n",
       " 'gateswp_17-16-6_4K-0T_b.bin',\n",
       " 'gateswp_17-16-6_4K-0T_b.txt',\n",
       " 'gateswp_17-16-6_4K-0T_c.bin',\n",
       " 'gateswp_17-16-6_4K-0T_c.txt',\n",
       " 'gateswp_17-16-6_4K-0T_d.bin',\n",
       " 'gateswp_17-16-6_4K-0T_d.txt',\n",
       " 'gateswp_17-16-6_4K-0T_e.bin',\n",
       " 'gateswp_17-16-6_4K-0T_e.txt',\n",
       " 'gateswp_17-16-6_4K-0T_f.bin',\n",
       " 'gateswp_17-16-6_4K-0T_f.txt',\n",
       " 'gateswp_17-16-6_4K-0T_g.bin',\n",
       " 'gateswp_17-16-6_4K-0T_g.txt',\n",
       " 'gateswp_17-16-6_4K-0T_h.bin',\n",
       " 'gateswp_17-16-6_4K-0T_h.txt',\n",
       " 'gateswp_17-16-6_4K-0T_i.bin',\n",
       " 'gateswp_17-16-6_4K-0T_i.txt',\n",
       " 'gateswp_17-16-6_4K-3T_a.bin',\n",
       " 'gateswp_17-16-6_4K-3T_a.txt',\n",
       " 'gateswp_17-16-6_4K-3T_b.bin',\n",
       " 'gateswp_17-16-6_4K-3T_b.txt',\n",
       " 'gateswp_17-16-6_4K-6T_a.bin',\n",
       " 'gateswp_17-16-6_4K-6T_a.txt',\n",
       " 'gateswp_17-16-6_4K-6T_b.bin',\n",
       " 'gateswp_17-16-6_4K-6T_b.txt',\n",
       " 'gateswp_17-16-6_4K_a.bin',\n",
       " 'gateswp_17-16-6_4K_a.txt',\n",
       " 'gateswp_17-16-6_4K_b.bin',\n",
       " 'gateswp_17-16-6_4K_b.txt',\n",
       " 'gateswp_17-16-6_4K_long.bin',\n",
       " 'gateswp_17-16-6_4K_long.txt',\n",
       " 'gateswp_17-16-6_4K_long_a.bin',\n",
       " 'gateswp_17-16-6_4K_long_a.txt',\n",
       " 'gateswp_17-16-6_4K_long_b.bin',\n",
       " 'gateswp_17-16-6_4K_long_b.txt',\n",
       " 'gateswp_17-16-6_4K_tempoff.bin',\n",
       " 'gateswp_17-16-6_4K_tempoff.txt',\n",
       " 'gateswp_17-16-6_4K_tempoff_fast.bin',\n",
       " 'gateswp_17-16-6_4K_tempoff_fast.txt',\n",
       " 'gateswp_20-17-6_4K-0T_a.bin',\n",
       " 'gateswp_20-17-6_4K-0T_a.txt',\n",
       " 'gateswp_20-17-6_4K-0T_b.bin',\n",
       " 'gateswp_20-17-6_4K-0T_b.txt',\n",
       " 'gate_values.txt',\n",
       " 'RT_16-17_6_4to0p25_a.bin',\n",
       " 'RT_16-17_6_4to0p25_a.txt',\n",
       " 'RT_17-16-6_4to10K_a.bin',\n",
       " 'RT_17-16-6_4to10K_a.txt',\n",
       " 'stability_15-26-6_4K_0T_a.bin',\n",
       " 'stability_15-26-6_4K_0T_a.txt',\n",
       " 'stability_17-16-6_2182in_4K_a.bin',\n",
       " 'stability_17-16-6_2182in_4K_a.txt',\n",
       " 'stability_17-16-6_2182in_4K_b.bin',\n",
       " 'stability_17-16-6_2182in_4K_b.txt',\n",
       " 'stability_17-16-6_2182in_4K_c.bin',\n",
       " 'stability_17-16-6_2182in_4K_c.txt',\n",
       " 'stability_17-16-6_4K_a.bin',\n",
       " 'stability_17-16-6_4K_a.txt',\n",
       " 'stability_17-16-6_4K_b.bin',\n",
       " 'stability_17-16-6_4K_b.txt',\n",
       " 'stability_17-16-6_4K_c.bin',\n",
       " 'stability_17-16-6_4K_c.txt',\n",
       " 'stability_17-16-6_4K_d.bin',\n",
       " 'stability_17-16-6_4K_d.txt',\n",
       " 'stability_17-16-6_4K_e.bin',\n",
       " 'stability_17-16-6_4K_e.txt',\n",
       " 'stability_17-16-6_4K_input4_a.bin',\n",
       " 'stability_17-16-6_4K_input4_a.bin.cpgz',\n",
       " 'stability_17-16-6_4K_input4_a.txt',\n",
       " 'stability_17-16-6_DAQ-Kepco-new-supply-fan.bin',\n",
       " 'stability_17-16-6_DAQ-Kepco-new-supply-fan.txt',\n",
       " 'stability_17-16-6_Kepco-2182_4K_a.bin',\n",
       " 'stability_17-16-6_Kepco-2182_4K_a.txt',\n",
       " 'stability_17-16-6_newcable_4K_0T_a.bin',\n",
       " 'stability_17-16-6_newcable_4K_0T_a.txt',\n",
       " 'stability_17-20-6_4K_0T_a.bin',\n",
       " 'stability_17-20-6_4K_0T_a.txt',\n",
       " 'stability_20-17-6_4K_0T_b.bin',\n",
       " 'stability_20-17-6_4K_0T_b.txt',\n",
       " 'stability_20-17-6_4K_0T_c.bin',\n",
       " 'stability_20-17-6_4K_0T_c.txt',\n",
       " 'stability_2MOhm_DAQ-Kepco-new-supply-fan.bin',\n",
       " 'stability_2MOhm_DAQ-Kepco-new-supply-fan.txt',\n",
       " 'stability_2MOhm_DAQ-Kepco-new-supply-fan_b.bin',\n",
       " 'stability_2MOhm_DAQ-Kepco-new-supply-fan_b.txt',\n",
       " 'stability_KepcoOut_DAQIn_17-16-6_4K_a.bin',\n",
       " 'stability_KepcoOut_DAQIn_17-16-6_4K_a.txt',\n",
       " 'stability_KepcoOut_DAQIn_17-16-6_4K_b.bin',\n",
       " 'stability_KepcoOut_DAQIn_17-16-6_4K_b.txt',\n",
       " 'stability_KepcoOut_DAQIn_17-16-6_4K_c.bin',\n",
       " 'stability_KepcoOut_DAQIn_17-16-6_4K_c.txt',\n",
       " 'stability_kepco_check_DAQ_read_a.bin',\n",
       " 'stability_kepco_check_DAQ_read_a.txt',\n",
       " 'stability_kepco_check_DAQ_read_b.bin',\n",
       " 'stability_kepco_check_DAQ_read_b.txt',\n",
       " 'stability_kepco_check_DAQ_read_c.bin',\n",
       " 'stability_kepco_check_DAQ_read_c.txt',\n",
       " 'stability_output1_input1_a.bin',\n",
       " 'stability_output1_input1_a.txt',\n",
       " 'vigate_17-16-6_300mK_a.bin',\n",
       " 'vigate_17-16-6_300mK_a.txt',\n",
       " 'vigate_17-16-6_300mK_b.bin',\n",
       " 'vigate_17-16-6_300mK_b.txt',\n",
       " 'vigate_17-16-6_4K_a.bin',\n",
       " 'vigate_17-16-6_4K_a.txt',\n",
       " 'vigate_17-16-6_4K_reversed.bin',\n",
       " 'vigate_17-16-6_4K_reversed.txt',\n",
       " 'vigate_17-16-6_4K_reversed_b.bin',\n",
       " 'vigate_17-16-6_4K_reversed_b.txt',\n",
       " 'vigate_17-16-6_4K_reversed_c.bin',\n",
       " 'vigate_17-16-6_4K_reversed_c.txt',\n",
       " 'vigate_20-17-6_4K_0T_a.bin',\n",
       " 'vigate_20-17-6_4K_0T_a.txt',\n",
       " 'vigate_20-17-6_4K_0T_b.bin',\n",
       " 'vigate_20-17-6_4K_0T_b.txt',\n",
       " 'vigate_20-17-6_4K_0T_c.bin',\n",
       " 'vigate_20-17-6_4K_0T_c.txt',\n",
       " 'vigate_rev_20-17-6_4K_0T_a.bin',\n",
       " 'vigate_rev_20-17-6_4K_0T_a.txt',\n",
       " 'vigate_rev_20-17-6_4K_0T_b.bin',\n",
       " 'vigate_rev_20-17-6_4K_0T_b.txt',\n",
       " 'vigate_rev_20-17-6_4K_0T_c.bin',\n",
       " 'vigate_rev_20-17-6_4K_0T_c.txt',\n",
       " 'vigate_rev_20-17-6_4K_0T_d.bin',\n",
       " 'vigate_rev_20-17-6_4K_0T_d.txt',\n",
       " 'VI_17-16-6_4K_a.bin',\n",
       " 'VI_17-16-6_4K_a.txt']"
      ]
     },
     "execution_count": 14,
     "metadata": {},
     "output_type": "execute_result"
    }
   ],
   "source": [
    "os.listdir(data_dir)"
   ]
  },
  {
   "cell_type": "code",
   "execution_count": 15,
   "metadata": {
    "collapsed": false
   },
   "outputs": [],
   "source": [
    "data = lvdt.get_data_2d(data_dir+'RT_16-17_6_4to0p25_a.bin')"
   ]
  },
  {
   "cell_type": "code",
   "execution_count": 16,
   "metadata": {
    "collapsed": false
   },
   "outputs": [
    {
     "data": {
      "text/html": [
       "<div style=\"max-height:1000px;max-width:1500px;overflow:auto;\">\n",
       "<table border=\"1\" class=\"dataframe\">\n",
       "  <thead>\n",
       "    <tr style=\"text-align: right;\">\n",
       "      <th></th>\n",
       "      <th>Size</th>\n",
       "      <th>T</th>\n",
       "      <th>Iavg</th>\n",
       "      <th>Istd</th>\n",
       "      <th>t0</th>\n",
       "      <th>dt</th>\n",
       "    </tr>\n",
       "  </thead>\n",
       "  <tbody>\n",
       "    <tr>\n",
       "      <th>0</th>\n",
       "      <td>6</td>\n",
       "      <td>0.0000</td>\n",
       "      <td>9.761893e-09</td>\n",
       "      <td>3.654309e-10</td>\n",
       "      <td>0.621495</td>\n",
       "      <td>0.000333</td>\n",
       "    </tr>\n",
       "    <tr>\n",
       "      <th>1</th>\n",
       "      <td>6</td>\n",
       "      <td>4.1921</td>\n",
       "      <td>9.824079e-09</td>\n",
       "      <td>2.969861e-10</td>\n",
       "      <td>1.674555</td>\n",
       "      <td>0.000333</td>\n",
       "    </tr>\n",
       "    <tr>\n",
       "      <th>2</th>\n",
       "      <td>6</td>\n",
       "      <td>4.1921</td>\n",
       "      <td>9.984182e-09</td>\n",
       "      <td>5.375340e-10</td>\n",
       "      <td>2.726615</td>\n",
       "      <td>0.000333</td>\n",
       "    </tr>\n",
       "    <tr>\n",
       "      <th>3</th>\n",
       "      <td>6</td>\n",
       "      <td>4.1921</td>\n",
       "      <td>9.821466e-09</td>\n",
       "      <td>4.272480e-10</td>\n",
       "      <td>3.779675</td>\n",
       "      <td>0.000333</td>\n",
       "    </tr>\n",
       "    <tr>\n",
       "      <th>4</th>\n",
       "      <td>6</td>\n",
       "      <td>4.1921</td>\n",
       "      <td>1.001495e-08</td>\n",
       "      <td>3.297230e-10</td>\n",
       "      <td>4.831736</td>\n",
       "      <td>0.000333</td>\n",
       "    </tr>\n",
       "  </tbody>\n",
       "</table>\n",
       "</div>"
      ],
      "text/plain": [
       "    Size       T          Iavg          Istd        t0        dt\n",
       "0      6  0.0000  9.761893e-09  3.654309e-10  0.621495  0.000333\n",
       "1      6  4.1921  9.824079e-09  2.969861e-10  1.674555  0.000333\n",
       "2      6  4.1921  9.984182e-09  5.375340e-10  2.726615  0.000333\n",
       "3      6  4.1921  9.821466e-09  4.272480e-10  3.779675  0.000333\n",
       "4      6  4.1921  1.001495e-08  3.297230e-10  4.831736  0.000333"
      ]
     },
     "execution_count": 16,
     "metadata": {},
     "output_type": "execute_result"
    }
   ],
   "source": [
    "data.head()"
   ]
  },
  {
   "cell_type": "code",
   "execution_count": 17,
   "metadata": {
    "collapsed": false
   },
   "outputs": [],
   "source": [
    "data = data.drop(data.index[0])"
   ]
  },
  {
   "cell_type": "code",
   "execution_count": 18,
   "metadata": {
    "collapsed": false
   },
   "outputs": [],
   "source": [
    "from matplotlib.ticker import MultipleLocator"
   ]
  },
  {
   "cell_type": "code",
   "execution_count": 30,
   "metadata": {
    "collapsed": false
   },
   "outputs": [
    {
     "data": {
      "image/png": "[encoded data removed]",
      "text/plain": [
       "<matplotlib.figure.Figure at 0x10856b610>"
      ]
     },
     "metadata": {},
     "output_type": "display_data"
    }
   ],
   "source": [
    "fig, ax = plt.subplots(figsize = (12,8))\n",
    "ax.plot(data['t0']/60.0,data['T'])\n",
    "# ax.set_title('Reich He3 Cooldown', fontsize = 20)\n",
    "ax.set_xlabel('time (minutes)')\n",
    "ax.set_ylabel('T (K)')\n",
    "ax.xaxis.set_major_locator(MultipleLocator(10))\n",
    "ax.yaxis.set_major_locator(MultipleLocator(0.5))\n",
    "# ax.xaxis.set_minor_locator(MultipleLocator(1))\n",
    "# ax.yaxis.set_minor_locator(MultipleLocator(0.1))\n",
    "ax.tick_params(axis='both', which='major')\n",
    "ax.set_xlim(8,110)\n",
    "ax.grid()\n",
    "fig.savefig('/Users/nik/Dropbox/Repos/thesis/figures/measurements/reich_he3_cooldown.pdf')"
   ]
  },
  {
   "cell_type": "code",
   "execution_count": null,
   "metadata": {
    "collapsed": false
   },
   "outputs": [],
   "source": []
  }
 ],
 "metadata": {
  "kernelspec": {
   "display_name": "Python 2",
   "language": "python",
   "name": "python2"
  },
  "language_info": {
   "codemirror_mode": {
    "name": "ipython",
    "version": 2
   },
   "file_extension": ".py",
   "mimetype": "text/x-python",
   "name": "python",
   "nbconvert_exporter": "python",
   "pygments_lexer": "ipython2",
   "version": "2.7.9"
  }
 },
 "nbformat": 4,
 "nbformat_minor": 0
}
