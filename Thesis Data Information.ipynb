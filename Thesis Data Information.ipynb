{
 "cells": [
  {
   "cell_type": "markdown",
   "metadata": {},
   "source": [
    "# Where is all of my data?"
   ]
  },
  {
   "cell_type": "markdown",
   "metadata": {},
   "source": [
    "## Chapter 3 -- Nanotube Image Filter\n",
    "\n",
    "Histogram Equalization -- https://github.com/nikhartman/notebooks/blob/master/histogram_equalization_figures.ipynb\n",
    "\n",
    "Extract CNT Profiles -- https://github.com/nikhartman/notebooks/blob/master/nanotube_profiles.ipynb  \n",
    "Build Filter Bank -- https://github.com/nikhartman/notebooks/blob/master/build_filter_bank.ipynb  \n",
    "Optimize Filter -- https://github.com/nikhartman/notebooks/blob/master/optimize_matched_filter.ipynb  \n",
    "Optimize Filter with Full Images -- https://github.com/nikhartman/notebooks/blob/master/optimize_matched_filter_real-data.ipynb  "
   ]
  },
  {
   "cell_type": "markdown",
   "metadata": {},
   "source": [
    "## Chapter 4 -- Quantum Dots with Ferromagnetic Leads"
   ]
  },
  {
   "cell_type": "markdown",
   "metadata": {},
   "source": [
    "## Chapter 5 -- Aluminum Wire Tunneling\n",
    "\n",
    "CNTAL17_q2 -- https://github.com/nikhartman/notebooks/blob/master/CNTAL17_q2.ipynb"
   ]
  },
  {
   "cell_type": "markdown",
   "metadata": {},
   "source": [
    "## Chapter 6 -- Superconductor/Ferromagnet Junctions\n",
    "\n",
    "scfmh8 -- https://github.com/nikhartman/notebooks/blob/master/scfmh8.ipynb"
   ]
  },
  {
   "cell_type": "markdown",
   "metadata": {},
   "source": [
    "## Fabrication -- EBL Dose Scaling\n",
    "\n"
   ]
  },
  {
   "cell_type": "markdown",
   "metadata": {},
   "source": [
    "#### Where to find even more data?"
   ]
  },
  {
   "cell_type": "code",
   "execution_count": 44,
   "metadata": {
    "collapsed": true
   },
   "outputs": [],
   "source": [
    "import os\n",
    "import glob\n",
    "\n",
    "data_dir = '/Volumes/EDDropbox/Data/'"
   ]
  },
  {
   "cell_type": "code",
   "execution_count": 55,
   "metadata": {
    "collapsed": false
   },
   "outputs": [
    {
     "name": "stdout",
     "output_type": "stream",
     "text": [
      "100112_5_q3\n",
      "100112_6_q2\n",
      "100112_6_q3\n",
      "101212_1_q2\n",
      "AuD2\n",
      "bise_chip4b\n",
      "bise_chip4c\n",
      "cat_test_3_q1\n",
      "CNTAL17_q2\n",
      "data_scf1\n",
      "data_scf2\n",
      "fake_CNT\n",
      "MF10\n",
      "MF15\n",
      "MT1_2\n",
      "MT4\n",
      "MT6\n",
      "MT7\n",
      "PdD1\n",
      "SCF28\n",
      "SCF29\n",
      "SCF3_q3\n",
      "SCF61\n",
      "SCF62\n",
      "SCF63\n",
      "SCF66\n",
      "SCF68\n",
      "SCF72\n",
      "SCF75\n",
      "SCF87\n",
      "SCF96\n",
      "SCF98\n",
      "scfm15_q1\n",
      "scfm21\n",
      "scfma6\n",
      "scfmc3\n",
      "scfmc6\n",
      "scfmh2\n",
      "scfmh5\n",
      "scfmh8\n",
      "scfmi4\n",
      "scfmj1\n",
      "SCFP10\n",
      "SCFP11\n",
      "SCFP5\n",
      "SCFT15\n",
      "SCFT1_q3\n",
      "SCFT20\n",
      "SCFT21\n",
      "test\n",
      "test_SR830\n"
     ]
    }
   ],
   "source": [
    "# all samples with some data saved\n",
    "\n",
    "dir_list = [os.path.join(data_dir, d) for d in os.listdir(data_dir)]\n",
    "dir_list.sort(key=lambda d: d[len(data_dir):].lower())\n",
    "for d in dir_list:\n",
    "    print d[len(data_dir):]"
   ]
  },
  {
   "cell_type": "code",
   "execution_count": 42,
   "metadata": {
    "collapsed": false
   },
   "outputs": [],
   "source": [
    "# find all .ipynb files\n",
    "\n",
    "notebooks = []\n",
    "for dirpath, subdirs, files in os.walk(data_dir):\n",
    "    for f in files:\n",
    "        if f.endswith('.ipynb'):\n",
    "            if not dirpath.endswith('.ipynb_checkpoints'):\n",
    "                notebooks.append(os.path.join(dirpath, f))\n",
    "notebooks.sort(key=lambda n: n[len(data_dir):].lower())"
   ]
  },
  {
   "cell_type": "code",
   "execution_count": 43,
   "metadata": {
    "collapsed": false,
    "scrolled": true
   },
   "outputs": [
    {
     "name": "stdout",
     "output_type": "stream",
     "text": [
      "SCF72 -- SCF72_4K_data.ipynb\n",
      "SCF72 -- SCF72_data_17-19_13.ipynb\n",
      "SCF72 -- SCF72_VI_gate_21-23_f.ipynb\n",
      "SCF72 -- room_temp.ipynb\n",
      "SCF75 -- SCF75_12-9_13.ipynb\n",
      "SCF75 -- SCF75_15-16_13.ipynb\n",
      "SCF75 -- SCF75_21-23_13.ipynb\n",
      "SCF96 -- 16-17_23.ipynb\n",
      "SCF96 -- 9-12_23.ipynb\n",
      "SCF96 -- scf96_quick_plot.ipynb\n",
      "SCF98 -- quick plots.ipynb\n",
      "SCF98 -- scf98_q2_500mK.ipynb\n",
      "SCFP10 -- scfp10_20-19_data_4K.ipynb\n",
      "SCFP10 -- scfp10_24-14_data_4K.ipynb\n",
      "SCFP10 -- scfp10_24-19_data_4K.ipynb\n",
      "SCFP11 -- VI-gate plot.ipynb\n",
      "SCFT15 -- VI-gate plot.ipynb\n",
      "SCFT15 -- VI-gate plot_1.ipynb\n",
      "test -- Untitled0.ipynb\n"
     ]
    }
   ],
   "source": [
    "# all samples that have ipython notebooks \n",
    "\n",
    "for n in notebooks:\n",
    "    s = n[len(data_dir):].split('/')\n",
    "    print '{0} -- {1}'.format(s[0], s[-1])"
   ]
  },
  {
   "cell_type": "code",
   "execution_count": 45,
   "metadata": {
    "collapsed": true
   },
   "outputs": [],
   "source": [
    "# find size of folder\n",
    "# http://stackoverflow.com/questions/1392413\n",
    "\n",
    "def getFolderSize(folder):\n",
    "    total_size = os.path.getsize(folder)\n",
    "    for item in os.listdir(folder):\n",
    "        itempath = os.path.join(folder, item)\n",
    "        if os.path.isfile(itempath):\n",
    "            total_size += os.path.getsize(itempath)\n",
    "        elif os.path.isdir(itempath):\n",
    "            total_size += getFolderSize(itempath)\n",
    "    return total_size"
   ]
  },
  {
   "cell_type": "code",
   "execution_count": 51,
   "metadata": {
    "collapsed": false
   },
   "outputs": [],
   "source": [
    "dir_list.sort(key=lambda d: -getFolderSize(d)/1e6)"
   ]
  },
  {
   "cell_type": "code",
   "execution_count": 53,
   "metadata": {
    "collapsed": false,
    "scrolled": false
   },
   "outputs": [
    {
     "name": "stdout",
     "output_type": "stream",
     "text": [
      "SCF75 -- 13246.938356MB\n",
      "SCF98 -- 12853.82449MB\n",
      "SCF96 -- 9788.215803MB\n",
      "SCF72 -- 3946.474784MB\n",
      "scfm15_q1 -- 1706.742861MB\n",
      "SCFT15 -- 981.1371MB\n",
      "fake_CNT -- 623.048327MB\n",
      "scfmh5 -- 280.920432MB\n",
      "scfmh2 -- 217.283517MB\n",
      "scfm21 -- 154.042652MB\n",
      "test -- 86.296601MB\n",
      "SCF29 -- 69.479988MB\n",
      "SCFP10 -- 11.720408MB\n",
      "MT7 -- 9.779582MB\n",
      "CNTAL17_q2 -- 7.590215MB\n",
      "PdD1 -- 6.744353MB\n",
      "MF15 -- 5.705881MB\n",
      "SCF68 -- 5.278931MB\n",
      "SCF28 -- 5.21695MB\n",
      "scfmi4 -- 4.427879MB\n",
      "SCFP11 -- 3.938351MB\n",
      "scfmh8 -- 3.898641MB\n",
      "MT4 -- 3.570609MB\n",
      "scfmc3 -- 2.615605MB\n",
      "SCFT1_q3 -- 2.128196MB\n",
      "scfmc6 -- 1.722595MB\n",
      "SCF87 -- 1.354481MB\n",
      "bise_chip4b -- 1.297198MB\n",
      "data_scf1 -- 1.070318MB\n",
      "data_scf2 -- 0.971884MB\n",
      "SCF62 -- 0.701386MB\n",
      "SCFT21 -- 0.696656MB\n",
      "scfma6 -- 0.602098MB\n",
      "test_SR830 -- 0.549468MB\n",
      "100112_6_q2 -- 0.405589MB\n",
      "SCF61 -- 0.377494MB\n",
      "bise_chip4c -- 0.350631MB\n",
      "SCFT20 -- 0.254257MB\n",
      "SCF63 -- 0.253641MB\n",
      "MT6 -- 0.220052MB\n",
      "100112_5_q3 -- 0.213052MB\n",
      "SCFP5 -- 0.160115MB\n",
      "SCF3_q3 -- 0.131257MB\n",
      "101212_1_q2 -- 0.047962MB\n",
      "SCF66 -- 0.039977MB\n",
      "AuD2 -- 0.037128MB\n",
      "cat_test_3_q1 -- 0.0308MB\n",
      "MF10 -- 0.022167MB\n",
      "MT1_2 -- 0.014378MB\n",
      "100112_6_q3 -- 0.009134MB\n",
      "scfmj1 -- 1.8e-05MB\n"
     ]
    }
   ],
   "source": [
    "for d in dir_list:\n",
    "    print '{0} -- {1}MB'.format(d[len(data_dir):], getFolderSize(d)/1e6)"
   ]
  },
  {
   "cell_type": "markdown",
   "metadata": {},
   "source": [
    "Cool. Start eliminating crap with the bottom of the list first. Then move up the list toward lots of data. Make sure to grab notebooks as you go."
   ]
  },
  {
   "cell_type": "markdown",
   "metadata": {},
   "source": [
    "scfmj1 -- empty.  \n",
    "100112_6_q3 -- room temperature data only.  \n",
    "MT1_2 -- SC/FM junction. 4 probe lock in measurement. not a qd?  \n",
    "MF10 -- SC leads/tunnel probe. attempted majorana device. 4 probe lock in measurement. not a qd?  \n",
    "cat_test_3_q1 -- room temperature data only. terrible looking gate sweep.  \n",
    "AuD2 -- NM quantum dot. well, not really a quantum dot.  \n",
    "SCF66 -- room temperature data only  \n",
    "101212_1_q2 -- room temperature data only  \n",
    "SCF3_q3 --  room temperature data only. bad gate leak.  \n",
    "SCFP5 -- room temperature data only. no gate behavior?  \n",
    "100112_5_q3 -- room temperature only. big gate leak.  \n",
    "MT6 -- SC/FM junction sample. Cooled down in He3. Confusing gate sweep data.  \n",
    "SCF63 -- room temperature data only.  \n",
    "SCFT20 -- Cooled down to 4K. Bad looking gate behavior. FM only.  \n",
    "SCF61 -- room temperature only. looked good. died during room temp testing. FM/SC device.  \n",
    "100112_6_q2 -- SC/FM junction. room temperature only. no gate dependence. some strange looking capacitance stuff.  \n",
    "scfma6 -- room temperature only. SC/FM device. gate leak.  \n",
    "SCFMT21 -- cooled down to 4K. Did not work correctly. Not worth it. FM only.  \n",
    "SCF62 -- room temperature only. Lots of gate hysteresis. Otherwise, good. SC/FM junction device.  \n",
    "data_scf1 -- room temperature only. looks terrible. SC/FM device.  \n",
    "data_scf2 -- cooled to 4K. looks terrible. SC/FM device.  \n",
    "SCF87 -- cooled to 4K. looks like it might not be connected. with side gates. developed gate leak post-anneal.  \n",
    "scfmc6 -- Pd only. cooled to 4K. does not look like much of a quantum dot. \n",
    "MT4 -- SC/FM device. Measured at 250mK in Heliox. Looks like the bias did not work correctly or was setup incorrectly.  \n",
    "scfmh8 -- SC/FM device with a problematic gate. Lots of data. Probably the most interesting thing I've ever measured.  \n",
    "SCFP11 -- FM only. cooled down in dunker. looks awful. gate does not work correctly.  \n",
    "scfmi4 -- FM/SC device with problematic gate. Only data take on FM/FM leads. Not really interesting.\n",
    "SCF28 -- room temperature data only. gate leak.\n",
    "SCF68 -- cooled down in dunker in transport dewar. looks pretty good. not a lot of data.\n",
    "MF15 -- SC/SC device. Lots of lock in data taken with Atikur. Not bad, actually.\n",
    "PdD1 -- smallish Pd QD. made a long time ago just to make sure I could. It did not work correctly\n",
    "CNTAL17_q2 -- Al wire tunneling device. Al-CNT resistance too large to make tunneling measurement. QDs worked well.\n",
    "MT7 -- SC/FM device. measured at 4K. probably the best looking data I have on these devices.\n",
    "SCFP10 -- \n",
    "\n",
    "\n",
    "SCF72 -- done  "
   ]
  },
  {
   "cell_type": "code",
   "execution_count": null,
   "metadata": {
    "collapsed": true
   },
   "outputs": [],
   "source": []
  }
 ],
 "metadata": {
  "kernelspec": {
   "display_name": "Python 2",
   "language": "python",
   "name": "python2"
  },
  "language_info": {
   "codemirror_mode": {
    "name": "ipython",
    "version": 2
   },
   "file_extension": ".py",
   "mimetype": "text/x-python",
   "name": "python",
   "nbconvert_exporter": "python",
   "pygments_lexer": "ipython2",
   "version": "2.7.9"
  }
 },
 "nbformat": 4,
 "nbformat_minor": 0
}
