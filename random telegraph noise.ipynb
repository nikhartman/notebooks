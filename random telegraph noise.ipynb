{
 "cells": [
  {
   "cell_type": "code",
   "execution_count": 1,
   "metadata": {
    "collapsed": true
   },
   "outputs": [],
   "source": [
    "%matplotlib inline\n",
    "import matplotlib as mpl\n",
    "mpl.style.use('/Users/nik/Dropbox/Notebooks/thesisrc.py')\n",
    "import matplotlib.pyplot as plt\n",
    "from matplotlib import gridspec\n",
    "import numpy as np\n",
    "import glob\n",
    "import os\n",
    "import pandas as pd\n",
    "import lvdatatools as lvdt\n",
    "import re\n",
    "import math"
   ]
  },
  {
   "cell_type": "markdown",
   "metadata": {},
   "source": [
    "Going to try to find a noisy section of a quantum dot and exract some statistics about the random telegraph switching. The goal here is to plot the distribution of switching times as a fucntion of gate voltage over a noisy region of a coulomb diamond plot."
   ]
  },
  {
   "cell_type": "code",
   "execution_count": 2,
   "metadata": {
    "collapsed": false
   },
   "outputs": [
    {
     "ename": "OSError",
     "evalue": "[Errno 2] No such file or directory: '/Volumes/JUPITER/Data/fm_dots/SCF96/'",
     "output_type": "error",
     "traceback": [
      "\u001b[0;31m---------------------------------------------------------------------------\u001b[0m",
      "\u001b[0;31mOSError\u001b[0m                                   Traceback (most recent call last)",
      "\u001b[0;32m<ipython-input-2-d291d4e27d49>\u001b[0m in \u001b[0;36m<module>\u001b[0;34m()\u001b[0m\n\u001b[1;32m      2\u001b[0m \u001b[0mfig_dir\u001b[0m \u001b[0;34m=\u001b[0m \u001b[0;34m'/Volumes/JUPITER/Data/fm_dots/SCF96/figures/'\u001b[0m\u001b[0;34m\u001b[0m\u001b[0m\n\u001b[1;32m      3\u001b[0m \u001b[0mog_dir\u001b[0m \u001b[0;34m=\u001b[0m \u001b[0;34m'/Volumes/JUPITER/Data/SCF96/q3/'\u001b[0m\u001b[0;34m\u001b[0m\u001b[0m\n\u001b[0;32m----> 4\u001b[0;31m \u001b[0mos\u001b[0m\u001b[0;34m.\u001b[0m\u001b[0mlistdir\u001b[0m\u001b[0;34m(\u001b[0m\u001b[0mpkl_dir\u001b[0m\u001b[0;34m)\u001b[0m\u001b[0;34m\u001b[0m\u001b[0m\n\u001b[0m",
      "\u001b[0;31mOSError\u001b[0m: [Errno 2] No such file or directory: '/Volumes/JUPITER/Data/fm_dots/SCF96/'"
     ]
    }
   ],
   "source": [
    "pkl_dir = '/Volumes/JUPITER/Data/fm_dots/SCF96/'\n",
    "fig_dir = '/Volumes/JUPITER/Data/fm_dots/SCF96/figures/'\n",
    "og_dir = '/Volumes/JUPITER/Data/SCF96/q3/'\n",
    "os.listdir(pkl_dir)"
   ]
  },
  {
   "cell_type": "code",
   "execution_count": null,
   "metadata": {
    "collapsed": false
   },
   "outputs": [],
   "source": [
    "cond = pd.read_pickle(os.path.join(pkl_dir, '4K_vi-gate_16-17_23_a_2T_cond.pkl'))\n",
    "\n",
    "fig, ax = plt.subplots(figsize=(18,10))\n",
    "limits = lvdt.df_extent(cond)\n",
    "\n",
    "im = ax.imshow(cond, extent = limits, \n",
    "               cmap = plt.cm.seismic, vmin = -0.075, vmax = 0.125, \n",
    "               origin = 'lower', aspect = 'auto', interpolation = 'nearest')\n",
    "ax.set_xlabel(r'$V_G (V)$')\n",
    "ax.set_ylabel(r'$V_B (mV)$')\n",
    "#ax.set_title(r'conductance ($\\frac{e^2}{h}$)')\n",
    "ax.set_xlim(15, 30)\n",
    "cb = plt.colorbar(im)\n",
    "cb.set_label(r'$G$')"
   ]
  },
  {
   "cell_type": "code",
   "execution_count": null,
   "metadata": {
    "collapsed": false
   },
   "outputs": [],
   "source": [
    "gate = cond.columns.values\n",
    "filelist = [os.path.join(og_dir, 'vi-gate_16-17_23_a_2T_{0:.0f}.bin'.format(g*1000)) for g in gate]\n",
    "print np.all([os.path.isfile(f) for f in filelist]) # if this is false there is going to be trouble"
   ]
  },
  {
   "cell_type": "markdown",
   "metadata": {},
   "source": [
    "Great. Now I have the filelist for the dataset I want to work with. Time to start looking at some time series."
   ]
  },
  {
   "cell_type": "code",
   "execution_count": null,
   "metadata": {
    "collapsed": false
   },
   "outputs": [],
   "source": [
    "ind = np.where(cond.columns.values==23)\n",
    "df = lvdt.get_data_2d(filelist[ind[0]])\n",
    "df = df.groupby(df['Bias']).mean()\n",
    "fig, ax = plt.subplots()\n",
    "ax.plot(df.index*1e3, df['Iavg']*1e9)"
   ]
  },
  {
   "cell_type": "code",
   "execution_count": null,
   "metadata": {
    "collapsed": false
   },
   "outputs": [],
   "source": [
    "ind = np.where(cond.columns.values==23)\n",
    "df = lvdt.get_data_2d(filelist[ind[0]])\n",
    "\n",
    "dt = df['dt'].mean()\n",
    "N = len(df.loc[0,'i0':])\n",
    "t = np.arange(0,N)*dt\n",
    "\n",
    "M = 10\n",
    "fig, axs = plt.subplots(M, 1,sharex = True, sharey=False, \n",
    "                        figsize=(18,M*1.5))\n",
    "axs = axs.flat\n",
    "\n",
    "sample = np.linspace(0,len(df['Bias'])-1,M, dtype='int')\n",
    "\n",
    "for i, ax in enumerate(axs):\n",
    "    ts = df.loc[sample[i],'i0':].values*1e9\n",
    "    bias = df['Bias'][sample[i]]*1e3\n",
    "    ax.plot(t, ts, label = bias)\n",
    "    #ax.plot(np.diff(ts), label = bias)\n",
    "    #ax.set_xlabel('Gate (V)')\n",
    "    #ax.set_ylabel('I (nA)')\n",
    "    ax.legend()\n",
    "ax.set_xlabel('time (s)')"
   ]
  },
  {
   "cell_type": "code",
   "execution_count": null,
   "metadata": {
    "collapsed": false
   },
   "outputs": [],
   "source": [
    "ind = np.where(cond.columns.values==23)\n",
    "df = lvdt.get_data_2d(filelist[ind[0]])\n",
    "\n",
    "dt = df['dt'].mean()\n",
    "N = len(df.loc[0,'i0':])\n",
    "t = np.arange(0,N)*dt\n",
    "\n",
    "M = 10\n",
    "fig, axs = plt.subplots(M, 1,sharex = True, sharey=False, \n",
    "                        figsize=(18,M*1.5))\n",
    "axs = axs.flat\n",
    "\n",
    "sample = np.linspace(0,len(df['Bias'])-1,M, dtype='int')\n",
    "\n",
    "for i, ax in enumerate(axs):\n",
    "    ts = df.loc[sample[i],'i0':].values*1e9\n",
    "    bias = df['Bias'][sample[i]]*1e3\n",
    "    #ax.plot(t, ts, label = bias)\n",
    "    ax.plot(abs(np.diff(ts)), 'r', label = bias)\n",
    "    #ax.set_xlabel('Gate (V)')\n",
    "    #ax.set_ylabel('I (nA)')\n",
    "    ax.set_ylim(-0.1, None)\n",
    "    ax.legend()\n",
    "ax.set_xlabel('time (s)')"
   ]
  },
  {
   "cell_type": "markdown",
   "metadata": {},
   "source": [
    "That's a good illustration of what I'm working with here. What I need is some way to scale the measured currents in the time series by the 'expected' value so I can identify when it is in the 'correct' state and when it has switched. That should also make it easier to threshold the derivative to identify a switch."
   ]
  },
  {
   "cell_type": "code",
   "execution_count": null,
   "metadata": {
    "collapsed": true
   },
   "outputs": [],
   "source": []
  }
 ],
 "metadata": {
  "kernelspec": {
   "display_name": "Python 2",
   "language": "python",
   "name": "python2"
  },
  "language_info": {
   "codemirror_mode": {
    "name": "ipython",
    "version": 2
   },
   "file_extension": ".py",
   "mimetype": "text/x-python",
   "name": "python",
   "nbconvert_exporter": "python",
   "pygments_lexer": "ipython2",
   "version": "2.7.9"
  }
 },
 "nbformat": 4,
 "nbformat_minor": 0
}
